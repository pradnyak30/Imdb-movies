{
 "cells": [
  {
   "cell_type": "markdown",
   "id": "25f80e0c",
   "metadata": {},
   "source": [
    "# MOVIE RATING PREDICTION\n",
    "\n",
    "**Project Overview**\n",
    "\n",
    "- The Movie Rating Prediction project involves analyzing a dataset containing information about Indian movies. The dataset includes details like movie name, year, duration, genre, rating, votes, director, and three main actors. \n",
    "\n",
    "- The data will be used to build a predictive model for movie ratings and extract valuable insights from the movie industry.\n",
    "\n",
    "**Objectives**\n",
    "\n",
    "- Develop a predictive model: Create a machine learning model to predict movie ratings based on the provided dataset.\n",
    "\n",
    "- This is essentially a regression problem, where we aim to estimate the numerical movie ratings based on various features.\n",
    "\n",
    "- Identify influential factors: Analyze the dataset to determine which factors (e.g., genre, director, actors) have the most significant impact on movie ratings.\n",
    "\n",
    "- Provide actionable insights: Offer insights to the film industry stakeholders to make informed decisions about movie production, casting, and marketing."
   ]
  },
  {
   "cell_type": "code",
   "execution_count": 41,
   "id": "b12b601c",
   "metadata": {},
   "outputs": [],
   "source": [
    "# Importing Required Libraries\n",
    "\n",
    "import pandas as pd \n",
    "import numpy as np\n",
    "import matplotlib.pyplot as plt\n",
    "import seaborn as sns\n",
    "from sklearn.linear_model import LinearRegression\n",
    "from sklearn.metrics import *\n",
    "import warnings\n",
    "warnings.filterwarnings(\"ignore\")"
   ]
  },
  {
   "cell_type": "markdown",
   "id": "362a6198",
   "metadata": {},
   "source": [
    "To build a model in order to predict fraudulent transactions, we can follow these steps:\n",
    "\n",
    "1.Data Preprocessing: Handle missing values, scale features, etc.\n",
    "\n",
    "2.Exploratory Data Analysis (EDA): Understand data distributions, relationships, and imbalances.\n",
    "\n",
    "3.Model Selection and Training: Choose and train machine learning models.\n",
    "\n",
    "4.Model Evaluation: Evaluate model performance using appropriate metrics."
   ]
  },
  {
   "cell_type": "code",
   "execution_count": 42,
   "id": "542862bf",
   "metadata": {},
   "outputs": [],
   "source": [
    "imdb = pd.read_csv(r\"S:\\CODSOFT\\IMDb Movies India.csv\" ,  encoding='cp1252')"
   ]
  },
  {
   "cell_type": "markdown",
   "id": "52dc9813",
   "metadata": {},
   "source": [
    "# 1. Data Preprocessing"
   ]
  },
  {
   "cell_type": "code",
   "execution_count": 43,
   "id": "82a851b7",
   "metadata": {},
   "outputs": [
    {
     "data": {
      "text/plain": [
       "(15509, 10)"
      ]
     },
     "execution_count": 43,
     "metadata": {},
     "output_type": "execute_result"
    }
   ],
   "source": [
    "imdb.shape"
   ]
  },
  {
   "cell_type": "code",
   "execution_count": 44,
   "id": "2686cc82",
   "metadata": {},
   "outputs": [
    {
     "name": "stdout",
     "output_type": "stream",
     "text": [
      "<class 'pandas.core.frame.DataFrame'>\n",
      "RangeIndex: 15509 entries, 0 to 15508\n",
      "Data columns (total 10 columns):\n",
      " #   Column    Non-Null Count  Dtype  \n",
      "---  ------    --------------  -----  \n",
      " 0   Name      15509 non-null  object \n",
      " 1   Year      14981 non-null  object \n",
      " 2   Duration  7240 non-null   object \n",
      " 3   Genre     13632 non-null  object \n",
      " 4   Rating    7919 non-null   float64\n",
      " 5   Votes     7920 non-null   object \n",
      " 6   Director  14984 non-null  object \n",
      " 7   Actor 1   13892 non-null  object \n",
      " 8   Actor 2   13125 non-null  object \n",
      " 9   Actor 3   12365 non-null  object \n",
      "dtypes: float64(1), object(9)\n",
      "memory usage: 1.2+ MB\n"
     ]
    }
   ],
   "source": [
    "imdb.info()"
   ]
  },
  {
   "cell_type": "code",
   "execution_count": 45,
   "id": "9978336d",
   "metadata": {},
   "outputs": [
    {
     "data": {
      "text/html": [
       "<div>\n",
       "<style scoped>\n",
       "    .dataframe tbody tr th:only-of-type {\n",
       "        vertical-align: middle;\n",
       "    }\n",
       "\n",
       "    .dataframe tbody tr th {\n",
       "        vertical-align: top;\n",
       "    }\n",
       "\n",
       "    .dataframe thead th {\n",
       "        text-align: right;\n",
       "    }\n",
       "</style>\n",
       "<table border=\"1\" class=\"dataframe\">\n",
       "  <thead>\n",
       "    <tr style=\"text-align: right;\">\n",
       "      <th></th>\n",
       "      <th>Name</th>\n",
       "      <th>Year</th>\n",
       "      <th>Duration</th>\n",
       "      <th>Genre</th>\n",
       "      <th>Rating</th>\n",
       "      <th>Votes</th>\n",
       "      <th>Director</th>\n",
       "      <th>Actor 1</th>\n",
       "      <th>Actor 2</th>\n",
       "      <th>Actor 3</th>\n",
       "    </tr>\n",
       "  </thead>\n",
       "  <tbody>\n",
       "    <tr>\n",
       "      <th>0</th>\n",
       "      <td></td>\n",
       "      <td>NaN</td>\n",
       "      <td>NaN</td>\n",
       "      <td>Drama</td>\n",
       "      <td>NaN</td>\n",
       "      <td>NaN</td>\n",
       "      <td>J.S. Randhawa</td>\n",
       "      <td>Manmauji</td>\n",
       "      <td>Birbal</td>\n",
       "      <td>Rajendra Bhatia</td>\n",
       "    </tr>\n",
       "    <tr>\n",
       "      <th>1</th>\n",
       "      <td>#Gadhvi (He thought he was Gandhi)</td>\n",
       "      <td>(2019)</td>\n",
       "      <td>109 min</td>\n",
       "      <td>Drama</td>\n",
       "      <td>7.0</td>\n",
       "      <td>8</td>\n",
       "      <td>Gaurav Bakshi</td>\n",
       "      <td>Rasika Dugal</td>\n",
       "      <td>Vivek Ghamande</td>\n",
       "      <td>Arvind Jangid</td>\n",
       "    </tr>\n",
       "    <tr>\n",
       "      <th>2</th>\n",
       "      <td>#Homecoming</td>\n",
       "      <td>(2021)</td>\n",
       "      <td>90 min</td>\n",
       "      <td>Drama, Musical</td>\n",
       "      <td>NaN</td>\n",
       "      <td>NaN</td>\n",
       "      <td>Soumyajit Majumdar</td>\n",
       "      <td>Sayani Gupta</td>\n",
       "      <td>Plabita Borthakur</td>\n",
       "      <td>Roy Angana</td>\n",
       "    </tr>\n",
       "    <tr>\n",
       "      <th>3</th>\n",
       "      <td>#Yaaram</td>\n",
       "      <td>(2019)</td>\n",
       "      <td>110 min</td>\n",
       "      <td>Comedy, Romance</td>\n",
       "      <td>4.4</td>\n",
       "      <td>35</td>\n",
       "      <td>Ovais Khan</td>\n",
       "      <td>Prateik</td>\n",
       "      <td>Ishita Raj</td>\n",
       "      <td>Siddhant Kapoor</td>\n",
       "    </tr>\n",
       "    <tr>\n",
       "      <th>4</th>\n",
       "      <td>...And Once Again</td>\n",
       "      <td>(2010)</td>\n",
       "      <td>105 min</td>\n",
       "      <td>Drama</td>\n",
       "      <td>NaN</td>\n",
       "      <td>NaN</td>\n",
       "      <td>Amol Palekar</td>\n",
       "      <td>Rajat Kapoor</td>\n",
       "      <td>Rituparna Sengupta</td>\n",
       "      <td>Antara Mali</td>\n",
       "    </tr>\n",
       "  </tbody>\n",
       "</table>\n",
       "</div>"
      ],
      "text/plain": [
       "                                 Name    Year Duration            Genre  \\\n",
       "0                                         NaN      NaN            Drama   \n",
       "1  #Gadhvi (He thought he was Gandhi)  (2019)  109 min            Drama   \n",
       "2                         #Homecoming  (2021)   90 min   Drama, Musical   \n",
       "3                             #Yaaram  (2019)  110 min  Comedy, Romance   \n",
       "4                   ...And Once Again  (2010)  105 min            Drama   \n",
       "\n",
       "   Rating Votes            Director       Actor 1             Actor 2  \\\n",
       "0     NaN   NaN       J.S. Randhawa      Manmauji              Birbal   \n",
       "1     7.0     8       Gaurav Bakshi  Rasika Dugal      Vivek Ghamande   \n",
       "2     NaN   NaN  Soumyajit Majumdar  Sayani Gupta   Plabita Borthakur   \n",
       "3     4.4    35          Ovais Khan       Prateik          Ishita Raj   \n",
       "4     NaN   NaN        Amol Palekar  Rajat Kapoor  Rituparna Sengupta   \n",
       "\n",
       "           Actor 3  \n",
       "0  Rajendra Bhatia  \n",
       "1    Arvind Jangid  \n",
       "2       Roy Angana  \n",
       "3  Siddhant Kapoor  \n",
       "4      Antara Mali  "
      ]
     },
     "execution_count": 45,
     "metadata": {},
     "output_type": "execute_result"
    }
   ],
   "source": [
    "imdb.head()"
   ]
  },
  {
   "cell_type": "code",
   "execution_count": 46,
   "id": "c36cce95",
   "metadata": {},
   "outputs": [
    {
     "data": {
      "text/html": [
       "<div>\n",
       "<style scoped>\n",
       "    .dataframe tbody tr th:only-of-type {\n",
       "        vertical-align: middle;\n",
       "    }\n",
       "\n",
       "    .dataframe tbody tr th {\n",
       "        vertical-align: top;\n",
       "    }\n",
       "\n",
       "    .dataframe thead th {\n",
       "        text-align: right;\n",
       "    }\n",
       "</style>\n",
       "<table border=\"1\" class=\"dataframe\">\n",
       "  <thead>\n",
       "    <tr style=\"text-align: right;\">\n",
       "      <th></th>\n",
       "      <th>Name</th>\n",
       "      <th>Year</th>\n",
       "      <th>Duration</th>\n",
       "      <th>Genre</th>\n",
       "      <th>Rating</th>\n",
       "      <th>Votes</th>\n",
       "      <th>Director</th>\n",
       "      <th>Actor 1</th>\n",
       "      <th>Actor 2</th>\n",
       "      <th>Actor 3</th>\n",
       "    </tr>\n",
       "  </thead>\n",
       "  <tbody>\n",
       "    <tr>\n",
       "      <th>15504</th>\n",
       "      <td>Zulm Ko Jala Doonga</td>\n",
       "      <td>(1988)</td>\n",
       "      <td>NaN</td>\n",
       "      <td>Action</td>\n",
       "      <td>4.6</td>\n",
       "      <td>11</td>\n",
       "      <td>Mahendra Shah</td>\n",
       "      <td>Naseeruddin Shah</td>\n",
       "      <td>Sumeet Saigal</td>\n",
       "      <td>Suparna Anand</td>\n",
       "    </tr>\n",
       "    <tr>\n",
       "      <th>15505</th>\n",
       "      <td>Zulmi</td>\n",
       "      <td>(1999)</td>\n",
       "      <td>129 min</td>\n",
       "      <td>Action, Drama</td>\n",
       "      <td>4.5</td>\n",
       "      <td>655</td>\n",
       "      <td>Kuku Kohli</td>\n",
       "      <td>Akshay Kumar</td>\n",
       "      <td>Twinkle Khanna</td>\n",
       "      <td>Aruna Irani</td>\n",
       "    </tr>\n",
       "    <tr>\n",
       "      <th>15506</th>\n",
       "      <td>Zulmi Raj</td>\n",
       "      <td>(2005)</td>\n",
       "      <td>NaN</td>\n",
       "      <td>Action</td>\n",
       "      <td>NaN</td>\n",
       "      <td>NaN</td>\n",
       "      <td>Kiran Thej</td>\n",
       "      <td>Sangeeta Tiwari</td>\n",
       "      <td>NaN</td>\n",
       "      <td>NaN</td>\n",
       "    </tr>\n",
       "    <tr>\n",
       "      <th>15507</th>\n",
       "      <td>Zulmi Shikari</td>\n",
       "      <td>(1988)</td>\n",
       "      <td>NaN</td>\n",
       "      <td>Action</td>\n",
       "      <td>NaN</td>\n",
       "      <td>NaN</td>\n",
       "      <td>NaN</td>\n",
       "      <td>NaN</td>\n",
       "      <td>NaN</td>\n",
       "      <td>NaN</td>\n",
       "    </tr>\n",
       "    <tr>\n",
       "      <th>15508</th>\n",
       "      <td>Zulm-O-Sitam</td>\n",
       "      <td>(1998)</td>\n",
       "      <td>130 min</td>\n",
       "      <td>Action, Drama</td>\n",
       "      <td>6.2</td>\n",
       "      <td>20</td>\n",
       "      <td>K.C. Bokadia</td>\n",
       "      <td>Dharmendra</td>\n",
       "      <td>Jaya Prada</td>\n",
       "      <td>Arjun Sarja</td>\n",
       "    </tr>\n",
       "  </tbody>\n",
       "</table>\n",
       "</div>"
      ],
      "text/plain": [
       "                      Name    Year Duration          Genre  Rating Votes  \\\n",
       "15504  Zulm Ko Jala Doonga  (1988)      NaN         Action     4.6    11   \n",
       "15505                Zulmi  (1999)  129 min  Action, Drama     4.5   655   \n",
       "15506            Zulmi Raj  (2005)      NaN         Action     NaN   NaN   \n",
       "15507        Zulmi Shikari  (1988)      NaN         Action     NaN   NaN   \n",
       "15508         Zulm-O-Sitam  (1998)  130 min  Action, Drama     6.2    20   \n",
       "\n",
       "            Director           Actor 1         Actor 2        Actor 3  \n",
       "15504  Mahendra Shah  Naseeruddin Shah   Sumeet Saigal  Suparna Anand  \n",
       "15505     Kuku Kohli      Akshay Kumar  Twinkle Khanna    Aruna Irani  \n",
       "15506     Kiran Thej   Sangeeta Tiwari             NaN            NaN  \n",
       "15507            NaN               NaN             NaN            NaN  \n",
       "15508   K.C. Bokadia        Dharmendra      Jaya Prada    Arjun Sarja  "
      ]
     },
     "execution_count": 46,
     "metadata": {},
     "output_type": "execute_result"
    }
   ],
   "source": [
    "imdb.tail()"
   ]
  },
  {
   "cell_type": "code",
   "execution_count": 47,
   "id": "40ea06c1",
   "metadata": {},
   "outputs": [
    {
     "data": {
      "text/html": [
       "<div>\n",
       "<style scoped>\n",
       "    .dataframe tbody tr th:only-of-type {\n",
       "        vertical-align: middle;\n",
       "    }\n",
       "\n",
       "    .dataframe tbody tr th {\n",
       "        vertical-align: top;\n",
       "    }\n",
       "\n",
       "    .dataframe thead th {\n",
       "        text-align: right;\n",
       "    }\n",
       "</style>\n",
       "<table border=\"1\" class=\"dataframe\">\n",
       "  <thead>\n",
       "    <tr style=\"text-align: right;\">\n",
       "      <th></th>\n",
       "      <th>Rating</th>\n",
       "    </tr>\n",
       "  </thead>\n",
       "  <tbody>\n",
       "    <tr>\n",
       "      <th>count</th>\n",
       "      <td>7919.000000</td>\n",
       "    </tr>\n",
       "    <tr>\n",
       "      <th>mean</th>\n",
       "      <td>5.841621</td>\n",
       "    </tr>\n",
       "    <tr>\n",
       "      <th>std</th>\n",
       "      <td>1.381777</td>\n",
       "    </tr>\n",
       "    <tr>\n",
       "      <th>min</th>\n",
       "      <td>1.100000</td>\n",
       "    </tr>\n",
       "    <tr>\n",
       "      <th>25%</th>\n",
       "      <td>4.900000</td>\n",
       "    </tr>\n",
       "    <tr>\n",
       "      <th>50%</th>\n",
       "      <td>6.000000</td>\n",
       "    </tr>\n",
       "    <tr>\n",
       "      <th>75%</th>\n",
       "      <td>6.800000</td>\n",
       "    </tr>\n",
       "    <tr>\n",
       "      <th>max</th>\n",
       "      <td>10.000000</td>\n",
       "    </tr>\n",
       "  </tbody>\n",
       "</table>\n",
       "</div>"
      ],
      "text/plain": [
       "            Rating\n",
       "count  7919.000000\n",
       "mean      5.841621\n",
       "std       1.381777\n",
       "min       1.100000\n",
       "25%       4.900000\n",
       "50%       6.000000\n",
       "75%       6.800000\n",
       "max      10.000000"
      ]
     },
     "execution_count": 47,
     "metadata": {},
     "output_type": "execute_result"
    }
   ],
   "source": [
    "imdb.describe()"
   ]
  },
  {
   "cell_type": "code",
   "execution_count": 48,
   "id": "25620c7a",
   "metadata": {},
   "outputs": [
    {
     "data": {
      "text/plain": [
       "Year         528\n",
       "Duration    8269\n",
       "Genre       1877\n",
       "Rating      7590\n",
       "Votes       7589\n",
       "Director     525\n",
       "Actor 1     1617\n",
       "Actor 2     2384\n",
       "Actor 3     3144\n",
       "dtype: int64"
      ]
     },
     "execution_count": 48,
     "metadata": {},
     "output_type": "execute_result"
    }
   ],
   "source": [
    "imdb.isnull().sum()[imdb.isnull().sum()>0]"
   ]
  },
  {
   "cell_type": "code",
   "execution_count": 49,
   "id": "0f0bde35",
   "metadata": {},
   "outputs": [
    {
     "data": {
      "text/html": [
       "<div>\n",
       "<style scoped>\n",
       "    .dataframe tbody tr th:only-of-type {\n",
       "        vertical-align: middle;\n",
       "    }\n",
       "\n",
       "    .dataframe tbody tr th {\n",
       "        vertical-align: top;\n",
       "    }\n",
       "\n",
       "    .dataframe thead th {\n",
       "        text-align: right;\n",
       "    }\n",
       "</style>\n",
       "<table border=\"1\" class=\"dataframe\">\n",
       "  <thead>\n",
       "    <tr style=\"text-align: right;\">\n",
       "      <th></th>\n",
       "      <th>Missing Values</th>\n",
       "      <th>Percentage</th>\n",
       "    </tr>\n",
       "  </thead>\n",
       "  <tbody>\n",
       "    <tr>\n",
       "      <th>Name</th>\n",
       "      <td>0</td>\n",
       "      <td>0.0%</td>\n",
       "    </tr>\n",
       "    <tr>\n",
       "      <th>Year</th>\n",
       "      <td>528</td>\n",
       "      <td>3.4%</td>\n",
       "    </tr>\n",
       "    <tr>\n",
       "      <th>Duration</th>\n",
       "      <td>8269</td>\n",
       "      <td>53.32%</td>\n",
       "    </tr>\n",
       "    <tr>\n",
       "      <th>Genre</th>\n",
       "      <td>1877</td>\n",
       "      <td>12.1%</td>\n",
       "    </tr>\n",
       "    <tr>\n",
       "      <th>Rating</th>\n",
       "      <td>7590</td>\n",
       "      <td>48.94%</td>\n",
       "    </tr>\n",
       "    <tr>\n",
       "      <th>Votes</th>\n",
       "      <td>7589</td>\n",
       "      <td>48.93%</td>\n",
       "    </tr>\n",
       "    <tr>\n",
       "      <th>Director</th>\n",
       "      <td>525</td>\n",
       "      <td>3.39%</td>\n",
       "    </tr>\n",
       "    <tr>\n",
       "      <th>Actor 1</th>\n",
       "      <td>1617</td>\n",
       "      <td>10.43%</td>\n",
       "    </tr>\n",
       "    <tr>\n",
       "      <th>Actor 2</th>\n",
       "      <td>2384</td>\n",
       "      <td>15.37%</td>\n",
       "    </tr>\n",
       "    <tr>\n",
       "      <th>Actor 3</th>\n",
       "      <td>3144</td>\n",
       "      <td>20.27%</td>\n",
       "    </tr>\n",
       "  </tbody>\n",
       "</table>\n",
       "</div>"
      ],
      "text/plain": [
       "          Missing Values Percentage\n",
       "Name                   0       0.0%\n",
       "Year                 528       3.4%\n",
       "Duration            8269     53.32%\n",
       "Genre               1877      12.1%\n",
       "Rating              7590     48.94%\n",
       "Votes               7589     48.93%\n",
       "Director             525      3.39%\n",
       "Actor 1             1617     10.43%\n",
       "Actor 2             2384     15.37%\n",
       "Actor 3             3144     20.27%"
      ]
     },
     "execution_count": 49,
     "metadata": {},
     "output_type": "execute_result"
    }
   ],
   "source": [
    "def missing_values_percent(dataframe):\n",
    "    missing_values = dataframe.isna().sum()\n",
    "    percentage_missing = (missing_values / len(dataframe) * 100).round(2)\n",
    "\n",
    "    result_movie = pd.DataFrame({'Missing Values': missing_values, 'Percentage': percentage_missing})\n",
    "    result_movie['Percentage'] = result_movie['Percentage'].astype(str) + '%'\n",
    "\n",
    "    return result_movie\n",
    "\n",
    "\n",
    "result = missing_values_percent(imdb)\n",
    "result"
   ]
  },
  {
   "cell_type": "code",
   "execution_count": 50,
   "id": "dbdda36c",
   "metadata": {},
   "outputs": [],
   "source": [
    "imdb.drop(['Actor 2' , 'Actor 3' ], axis=1, inplace=True)\n",
    "imdb.dropna(subset=['Duration', 'Rating', 'Votes'], inplace = True)"
   ]
  },
  {
   "cell_type": "code",
   "execution_count": 51,
   "id": "9bd00136",
   "metadata": {},
   "outputs": [
    {
     "data": {
      "text/plain": [
       "Director\n",
       "David Dhawan            41\n",
       "Mahesh Bhatt            39\n",
       "Ram Gopal Varma         34\n",
       "Shakti Samanta          34\n",
       "Hrishikesh Mukherjee    33\n",
       "                        ..\n",
       "S. Kumar                 1\n",
       "Rahul Bhole              1\n",
       "Sai Kabir                1\n",
       "Rackhee Sandilya         1\n",
       "Mozez Singh              1\n",
       "Name: count, Length: 2549, dtype: int64"
      ]
     },
     "execution_count": 51,
     "metadata": {},
     "output_type": "execute_result"
    }
   ],
   "source": [
    "director_counts = imdb['Director'].value_counts().sort_values(ascending=False)\n",
    "director_counts"
   ]
  },
  {
   "cell_type": "code",
   "execution_count": 52,
   "id": "d9915699",
   "metadata": {},
   "outputs": [],
   "source": [
    "imdb['Director'].fillna('rajmouli', inplace=True)"
   ]
  },
  {
   "cell_type": "code",
   "execution_count": 53,
   "id": "631b2276",
   "metadata": {},
   "outputs": [
    {
     "data": {
      "text/plain": [
       "Genre\n",
       "Drama                        870\n",
       "Drama, Romance               334\n",
       "Action, Crime, Drama         329\n",
       "Action, Drama                207\n",
       "Comedy, Drama                206\n",
       "                            ... \n",
       "Action, Crime, History         1\n",
       "Romance, Sci-Fi, Thriller      1\n",
       "Sci-Fi, Thriller               1\n",
       "Documentary, Musical           1\n",
       "Romance, Musical, Drama        1\n",
       "Name: count, Length: 393, dtype: int64"
      ]
     },
     "execution_count": 53,
     "metadata": {},
     "output_type": "execute_result"
    }
   ],
   "source": [
    "genre_counts = imdb['Genre'].value_counts().sort_values(ascending=False)\n",
    "genre_counts"
   ]
  },
  {
   "cell_type": "code",
   "execution_count": 54,
   "id": "23fd4125",
   "metadata": {},
   "outputs": [],
   "source": [
    "imdb['Genre'].fillna('Action', inplace=True)\n"
   ]
  },
  {
   "cell_type": "code",
   "execution_count": 55,
   "id": "c4ec9522",
   "metadata": {},
   "outputs": [
    {
     "data": {
      "text/plain": [
       "count                 5776\n",
       "unique                2046\n",
       "top       Amitabh Bachchan\n",
       "freq                   104\n",
       "Name: Actor 1, dtype: object"
      ]
     },
     "execution_count": 55,
     "metadata": {},
     "output_type": "execute_result"
    }
   ],
   "source": [
    "actor1_description = imdb['Actor 1'].describe()\n",
    "actor1_description"
   ]
  },
  {
   "cell_type": "code",
   "execution_count": 56,
   "id": "ca43f608",
   "metadata": {},
   "outputs": [],
   "source": [
    "imdb['Actor 1'].fillna('vijay devrakonda', inplace=True)"
   ]
  },
  {
   "cell_type": "code",
   "execution_count": 57,
   "id": "caee208b",
   "metadata": {},
   "outputs": [
    {
     "data": {
      "text/plain": [
       "Year\n",
       "(2019)    235\n",
       "(2017)    221\n",
       "(2018)    214\n",
       "(2016)    185\n",
       "(2015)    184\n",
       "         ... \n",
       "(1945)      3\n",
       "(1931)      2\n",
       "(1933)      2\n",
       "(1932)      2\n",
       "(1939)      2\n",
       "Name: count, Length: 91, dtype: int64"
      ]
     },
     "execution_count": 57,
     "metadata": {},
     "output_type": "execute_result"
    }
   ],
   "source": [
    "imdb.Year.value_counts()"
   ]
  },
  {
   "cell_type": "code",
   "execution_count": 58,
   "id": "7a90a870",
   "metadata": {},
   "outputs": [],
   "source": [
    "imdb['Year'] = imdb['Year'].fillna(2019)"
   ]
  },
  {
   "cell_type": "code",
   "execution_count": 59,
   "id": "49959f1f",
   "metadata": {},
   "outputs": [
    {
     "data": {
      "text/plain": [
       "Series([], dtype: int64)"
      ]
     },
     "execution_count": 59,
     "metadata": {},
     "output_type": "execute_result"
    }
   ],
   "source": [
    "imdb.isnull().sum()[imdb.isnull().sum()>0]"
   ]
  },
  {
   "cell_type": "code",
   "execution_count": 60,
   "id": "74ded386",
   "metadata": {},
   "outputs": [
    {
     "data": {
      "text/html": [
       "<div>\n",
       "<style scoped>\n",
       "    .dataframe tbody tr th:only-of-type {\n",
       "        vertical-align: middle;\n",
       "    }\n",
       "\n",
       "    .dataframe tbody tr th {\n",
       "        vertical-align: top;\n",
       "    }\n",
       "\n",
       "    .dataframe thead th {\n",
       "        text-align: right;\n",
       "    }\n",
       "</style>\n",
       "<table border=\"1\" class=\"dataframe\">\n",
       "  <thead>\n",
       "    <tr style=\"text-align: right;\">\n",
       "      <th></th>\n",
       "      <th>Name</th>\n",
       "      <th>Year</th>\n",
       "      <th>Duration</th>\n",
       "      <th>Genre</th>\n",
       "      <th>Rating</th>\n",
       "      <th>Votes</th>\n",
       "      <th>Director</th>\n",
       "      <th>Actor 1</th>\n",
       "    </tr>\n",
       "  </thead>\n",
       "  <tbody>\n",
       "    <tr>\n",
       "      <th>15493</th>\n",
       "      <td>Zubaan</td>\n",
       "      <td>(2015)</td>\n",
       "      <td>115 min</td>\n",
       "      <td>Drama</td>\n",
       "      <td>6.1</td>\n",
       "      <td>408</td>\n",
       "      <td>Mozez Singh</td>\n",
       "      <td>Vicky Kaushal</td>\n",
       "    </tr>\n",
       "    <tr>\n",
       "      <th>15494</th>\n",
       "      <td>Zubeidaa</td>\n",
       "      <td>(2001)</td>\n",
       "      <td>153 min</td>\n",
       "      <td>Biography, Drama, History</td>\n",
       "      <td>6.2</td>\n",
       "      <td>1,496</td>\n",
       "      <td>Shyam Benegal</td>\n",
       "      <td>Karisma Kapoor</td>\n",
       "    </tr>\n",
       "    <tr>\n",
       "      <th>15503</th>\n",
       "      <td>Zulm Ki Zanjeer</td>\n",
       "      <td>(1989)</td>\n",
       "      <td>125 min</td>\n",
       "      <td>Action, Crime, Drama</td>\n",
       "      <td>5.8</td>\n",
       "      <td>44</td>\n",
       "      <td>S.P. Muthuraman</td>\n",
       "      <td>Chiranjeevi</td>\n",
       "    </tr>\n",
       "    <tr>\n",
       "      <th>15505</th>\n",
       "      <td>Zulmi</td>\n",
       "      <td>(1999)</td>\n",
       "      <td>129 min</td>\n",
       "      <td>Action, Drama</td>\n",
       "      <td>4.5</td>\n",
       "      <td>655</td>\n",
       "      <td>Kuku Kohli</td>\n",
       "      <td>Akshay Kumar</td>\n",
       "    </tr>\n",
       "    <tr>\n",
       "      <th>15508</th>\n",
       "      <td>Zulm-O-Sitam</td>\n",
       "      <td>(1998)</td>\n",
       "      <td>130 min</td>\n",
       "      <td>Action, Drama</td>\n",
       "      <td>6.2</td>\n",
       "      <td>20</td>\n",
       "      <td>K.C. Bokadia</td>\n",
       "      <td>Dharmendra</td>\n",
       "    </tr>\n",
       "  </tbody>\n",
       "</table>\n",
       "</div>"
      ],
      "text/plain": [
       "                  Name    Year Duration                      Genre  Rating  \\\n",
       "15493           Zubaan  (2015)  115 min                      Drama     6.1   \n",
       "15494         Zubeidaa  (2001)  153 min  Biography, Drama, History     6.2   \n",
       "15503  Zulm Ki Zanjeer  (1989)  125 min       Action, Crime, Drama     5.8   \n",
       "15505            Zulmi  (1999)  129 min              Action, Drama     4.5   \n",
       "15508     Zulm-O-Sitam  (1998)  130 min              Action, Drama     6.2   \n",
       "\n",
       "       Votes         Director         Actor 1  \n",
       "15493    408      Mozez Singh   Vicky Kaushal  \n",
       "15494  1,496    Shyam Benegal  Karisma Kapoor  \n",
       "15503     44  S.P. Muthuraman     Chiranjeevi  \n",
       "15505    655       Kuku Kohli    Akshay Kumar  \n",
       "15508     20     K.C. Bokadia      Dharmendra  "
      ]
     },
     "execution_count": 60,
     "metadata": {},
     "output_type": "execute_result"
    }
   ],
   "source": [
    "imdb.tail()"
   ]
  },
  {
   "cell_type": "code",
   "execution_count": 61,
   "id": "701f4554",
   "metadata": {},
   "outputs": [
    {
     "name": "stdout",
     "output_type": "stream",
     "text": [
      "<class 'pandas.core.frame.DataFrame'>\n",
      "Index: 5851 entries, 1 to 15508\n",
      "Data columns (total 8 columns):\n",
      " #   Column    Non-Null Count  Dtype  \n",
      "---  ------    --------------  -----  \n",
      " 0   Name      5851 non-null   object \n",
      " 1   Year      5851 non-null   object \n",
      " 2   Duration  5851 non-null   object \n",
      " 3   Genre     5851 non-null   object \n",
      " 4   Rating    5851 non-null   float64\n",
      " 5   Votes     5851 non-null   object \n",
      " 6   Director  5851 non-null   object \n",
      " 7   Actor 1   5851 non-null   object \n",
      "dtypes: float64(1), object(7)\n",
      "memory usage: 411.4+ KB\n"
     ]
    }
   ],
   "source": [
    "imdb['Year'] = imdb['Year'].str.replace(r'[()]', '', regex=True)\n",
    "imdb['Duration'] = imdb['Duration'].str.replace(r' min', '', regex=True)\n",
    "imdb.info()"
   ]
  },
  {
   "cell_type": "code",
   "execution_count": 62,
   "id": "3e28ad0c",
   "metadata": {},
   "outputs": [
    {
     "name": "stdout",
     "output_type": "stream",
     "text": [
      "<class 'pandas.core.frame.DataFrame'>\n",
      "Index: 5851 entries, 1 to 15508\n",
      "Data columns (total 8 columns):\n",
      " #   Column    Non-Null Count  Dtype  \n",
      "---  ------    --------------  -----  \n",
      " 0   Name      5851 non-null   object \n",
      " 1   Year      5851 non-null   int32  \n",
      " 2   Duration  5851 non-null   int32  \n",
      " 3   Genre     5851 non-null   object \n",
      " 4   Rating    5851 non-null   float64\n",
      " 5   Votes     5851 non-null   int32  \n",
      " 6   Director  5851 non-null   object \n",
      " 7   Actor 1   5851 non-null   object \n",
      "dtypes: float64(1), int32(3), object(4)\n",
      "memory usage: 342.8+ KB\n"
     ]
    }
   ],
   "source": [
    "int_columns = ['Year', 'Duration']\n",
    "imdb[int_columns] = imdb[int_columns].astype(int)\n",
    "imdb['Votes'] = imdb['Votes'].str.replace(',', '').astype(int)\n",
    "imdb.info()"
   ]
  },
  {
   "cell_type": "code",
   "execution_count": null,
   "id": "766fe73d",
   "metadata": {},
   "outputs": [],
   "source": []
  },
  {
   "cell_type": "markdown",
   "id": "160af7b2",
   "metadata": {},
   "source": [
    "# 2. EDA"
   ]
  },
  {
   "cell_type": "code",
   "execution_count": 63,
   "id": "5ef18230",
   "metadata": {},
   "outputs": [
    {
     "data": {
      "image/png": "[encoded data removed]",
      "text/plain": [
       "<Figure size 2000x1000 with 1 Axes>"
      ]
     },
     "metadata": {},
     "output_type": "display_data"
    }
   ],
   "source": [
    "plt.figure(figsize=(20, 10))\n",
    "\n",
    "year_counts = imdb['Year'].value_counts().sort_index()\n",
    "years = year_counts.index\n",
    "\n",
    "plt.plot(years, year_counts, marker='o' )\n",
    "\n",
    "plt.title('Number of Movies Per Year' , fontweight = \"bold\")\n",
    "plt.xlabel('Year', fontweight = \"bold\")\n",
    "plt.ylabel('Number of Movies' , fontweight = \"bold\")\n",
    "\n",
    "\n",
    "plt.show()"
   ]
  },
  {
   "cell_type": "code",
   "execution_count": 64,
   "id": "ed9f5a51",
   "metadata": {},
   "outputs": [
    {
     "data": {
      "image/png": "[encoded data removed]",
      "text/plain": [
       "<Figure size 640x480 with 1 Axes>"
      ]
     },
     "metadata": {},
     "output_type": "display_data"
    }
   ],
   "source": [
    "sns.histplot(data=imdb,x='Rating',kde=True)\n",
    "plt.title('Distribution of ratings' , fontweight = \"bold\")\n",
    "plt.show()"
   ]
  },
  {
   "cell_type": "code",
   "execution_count": 65,
   "id": "865b5966",
   "metadata": {},
   "outputs": [
    {
     "data": {
      "image/png": "[encoded data removed]",
      "text/plain": [
       "<Figure size 640x480 with 1 Axes>"
      ]
     },
     "metadata": {},
     "output_type": "display_data"
    }
   ],
   "source": [
    "sns.histplot(data=imdb,x='Year',kde=True)\n",
    "plt.title('Distribution of Year' , fontweight = \"bold\")\n",
    "plt.show()"
   ]
  },
  {
   "cell_type": "code",
   "execution_count": 66,
   "id": "e368c582",
   "metadata": {},
   "outputs": [],
   "source": [
    "def TopTenPlot(column):\n",
    "    global imdb\n",
    "    imdb[column].value_counts().sort_values(ascending=False)[:10].plot(kind=\"bar\", figsize=(20,6), edgecolor=\"k\")\n",
    "    plt.xticks(rotation=0)\n",
    "    plt.title(\"Top Ten {}\".format(column) , fontweight = \"bold\")\n",
    "    plt.xlabel(column, fontweight = \"bold\")\n",
    "    plt.ylabel(\"Count\", fontweight = \"bold\")\n",
    "    plt.show()"
   ]
  },
  {
   "cell_type": "code",
   "execution_count": 67,
   "id": "db0d43f0",
   "metadata": {},
   "outputs": [
    {
     "data": {
      "image/png": "[encoded data removed]",
      "text/plain": [
       "<Figure size 2000x600 with 1 Axes>"
      ]
     },
     "metadata": {},
     "output_type": "display_data"
    }
   ],
   "source": [
    "TopTenPlot(\"Director\")"
   ]
  },
  {
   "cell_type": "code",
   "execution_count": 68,
   "id": "1573d1f9",
   "metadata": {},
   "outputs": [
    {
     "data": {
      "image/png": "[encoded data removed]",
      "text/plain": [
       "<Figure size 1200x700 with 1 Axes>"
      ]
     },
     "metadata": {},
     "output_type": "display_data"
    }
   ],
   "source": [
    "movies_genre = imdb['Genre'].str.split(', ',expand=True).stack().value_counts()\n",
    "labels = movies_genre.keys()\n",
    "count = movies_genre.values\n",
    "plt.figure(figsize=(12,7))\n",
    "sns.barplot(x=labels,y=count)\n",
    "plt.xticks(rotation=90)\n",
    "plt.title('The frequency of each genre in the data')\n",
    "plt.xlabel('Genre')\n",
    "plt.ylabel('Counts')\n",
    "plt.show()"
   ]
  },
  {
   "cell_type": "code",
   "execution_count": null,
   "id": "7781763d",
   "metadata": {},
   "outputs": [],
   "source": []
  },
  {
   "cell_type": "markdown",
   "id": "d469a17f",
   "metadata": {},
   "source": [
    "# 3. Model Selection and training"
   ]
  },
  {
   "cell_type": "code",
   "execution_count": 69,
   "id": "da80bfe2",
   "metadata": {},
   "outputs": [
    {
     "name": "stdout",
     "output_type": "stream",
     "text": [
      "<class 'pandas.core.frame.DataFrame'>\n",
      "Index: 5851 entries, 1 to 15508\n",
      "Data columns (total 8 columns):\n",
      " #   Column    Non-Null Count  Dtype  \n",
      "---  ------    --------------  -----  \n",
      " 0   Name      5851 non-null   object \n",
      " 1   Year      5851 non-null   int32  \n",
      " 2   Duration  5851 non-null   int32  \n",
      " 3   Genre     5851 non-null   object \n",
      " 4   Rating    5851 non-null   float64\n",
      " 5   Votes     5851 non-null   int32  \n",
      " 6   Director  5851 non-null   object \n",
      " 7   Actor 1   5851 non-null   object \n",
      "dtypes: float64(1), int32(3), object(4)\n",
      "memory usage: 471.9+ KB\n"
     ]
    }
   ],
   "source": [
    "imdb.info()"
   ]
  },
  {
   "cell_type": "code",
   "execution_count": 70,
   "id": "43cf6f54",
   "metadata": {},
   "outputs": [],
   "source": [
    "genre_mean_rating = imdb.groupby('Genre')['Rating'].transform('mean')\n",
    "imdb['Genre_mean_rating'] = genre_mean_rating"
   ]
  },
  {
   "cell_type": "code",
   "execution_count": 78,
   "id": "82e63a86",
   "metadata": {},
   "outputs": [],
   "source": [
    "imdb['Director_encoded'] = imdb.groupby('Director')['Rating'].transform('mean')\n",
    "imdb['Actor_encoded'] = imdb.groupby('Actor 1')['Rating'].transform('mean')\n",
    "\n",
    "# Define the features and target variable\n",
    "features = ['Year', 'Votes', 'Duration', 'Genre_mean_rating', 'Director_encoded', 'Actor_encoded']\n",
    "X = imdb[features]\n",
    "y = imdb['Rating']\n",
    "\n",
    "\n",
    "# Split the data into training and test sets\n",
    "X_train, X_test, y_train, y_test = train_test_split(X, y, test_size=0.2, random_state=42)\n",
    "\n",
    "# Initialize and train a Linear Regression model\n",
    "lr = LinearRegression()\n",
    "lr.fit(X_train, y_train)\n",
    "\n",
    "# Make predictions on the test set\n",
    "y_pred = lr.predict(X_test)"
   ]
  },
  {
   "cell_type": "code",
   "execution_count": 79,
   "id": "7d2e4dd1",
   "metadata": {},
   "outputs": [
    {
     "data": {
      "text/plain": [
       "3563    -0.885205\n",
       "2023     0.358322\n",
       "9526    -0.153328\n",
       "40       1.210445\n",
       "1876    -0.386498\n",
       "           ...   \n",
       "8313    -0.689375\n",
       "13908   -0.751718\n",
       "14373   -0.089011\n",
       "14490   -2.041565\n",
       "13028   -0.422870\n",
       "Name: Rating, Length: 1171, dtype: float64"
      ]
     },
     "execution_count": 79,
     "metadata": {},
     "output_type": "execute_result"
    }
   ],
   "source": [
    "error_test = y_test - y_pred \n",
    "error_test"
   ]
  },
  {
   "cell_type": "code",
   "execution_count": 80,
   "id": "2d65d5c5",
   "metadata": {},
   "outputs": [
    {
     "data": {
      "text/plain": [
       "0.5137989360791347"
      ]
     },
     "execution_count": 80,
     "metadata": {},
     "output_type": "execute_result"
    }
   ],
   "source": [
    "mse_test = np.mean(np.square(error_test)) \n",
    "mse_test"
   ]
  },
  {
   "cell_type": "code",
   "execution_count": 81,
   "id": "d9a18018",
   "metadata": {},
   "outputs": [
    {
     "data": {
      "text/plain": [
       "0.7167976953639951"
      ]
     },
     "execution_count": 81,
     "metadata": {},
     "output_type": "execute_result"
    }
   ],
   "source": [
    "rmse_test = np.sqrt(mse_test) \n",
    "rmse_test"
   ]
  },
  {
   "cell_type": "code",
   "execution_count": 82,
   "id": "9a3f6991",
   "metadata": {},
   "outputs": [
    {
     "data": {
      "text/plain": [
       "9.935257302290912"
      ]
     },
     "execution_count": 82,
     "metadata": {},
     "output_type": "execute_result"
    }
   ],
   "source": [
    "mape_test = np.mean(np.abs(error_test * 100 / y_test) )  \n",
    "mape_test"
   ]
  },
  {
   "cell_type": "code",
   "execution_count": 83,
   "id": "95250471",
   "metadata": {},
   "outputs": [
    {
     "data": {
      "text/plain": [
       "90.0647426977091"
      ]
     },
     "execution_count": 83,
     "metadata": {},
     "output_type": "execute_result"
    }
   ],
   "source": [
    "acc_test = 100 - mape_test\n",
    "acc_test"
   ]
  },
  {
   "cell_type": "code",
   "execution_count": 89,
   "id": "ab39f0e7",
   "metadata": {},
   "outputs": [
    {
     "data": {
      "text/plain": [
       "0.7238406918904581"
      ]
     },
     "execution_count": 89,
     "metadata": {},
     "output_type": "execute_result"
    }
   ],
   "source": [
    "r2 = r2_score(y_test, y_pred)\n",
    "r2"
   ]
  },
  {
   "cell_type": "code",
   "execution_count": null,
   "id": "ecb4b438",
   "metadata": {},
   "outputs": [],
   "source": []
  },
  {
   "cell_type": "markdown",
   "id": "55be5787",
   "metadata": {},
   "source": [
    "# 4. Model Evaluation"
   ]
  },
  {
   "cell_type": "markdown",
   "id": "60563b96",
   "metadata": {},
   "source": [
    "- From the above predictions we can conclude that the accuracy of the model is around 90% depicting that it is a good model.\n",
    "- Rsquare = 0.72 means 72% of the X variables are able to explain about Y."
   ]
  },
  {
   "cell_type": "code",
   "execution_count": null,
   "id": "1575982f",
   "metadata": {},
   "outputs": [],
   "source": []
  }
 ],
 "metadata": {
  "kernelspec": {
   "display_name": "Python 3 (ipykernel)",
   "language": "python",
   "name": "python3"
  },
  "language_info": {
   "codemirror_mode": {
    "name": "ipython",
    "version": 3
   },
   "file_extension": ".py",
   "mimetype": "text/x-python",
   "name": "python",
   "nbconvert_exporter": "python",
   "pygments_lexer": "ipython3",
   "version": "3.11.5"
  }
 },
 "nbformat": 4,
 "nbformat_minor": 5
}
